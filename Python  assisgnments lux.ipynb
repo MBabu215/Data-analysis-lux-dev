{
 "cells": [
  {
   "cell_type": "code",
   "execution_count": 5,
   "id": "bc699888",
   "metadata": {},
   "outputs": [
    {
     "data": {
      "text/plain": [
       "10"
      ]
     },
     "execution_count": 5,
     "metadata": {},
     "output_type": "execute_result"
    }
   ],
   "source": [
    "number = 5\n",
    "add"
   ]
  },
  {
   "cell_type": "code",
   "execution_count": 6,
   "id": "b0cb7d37",
   "metadata": {},
   "outputs": [
    {
     "data": {
      "text/plain": [
       "10"
      ]
     },
     "execution_count": 6,
     "metadata": {},
     "output_type": "execute_result"
    }
   ],
   "source": [
    "add = 5+5\n",
    "add"
   ]
  },
  {
   "cell_type": "code",
   "execution_count": 11,
   "id": "e6863aa4",
   "metadata": {},
   "outputs": [
    {
     "data": {
      "text/plain": [
       "'Maryam'"
      ]
     },
     "execution_count": 11,
     "metadata": {},
     "output_type": "execute_result"
    }
   ],
   "source": [
    "Name = \"Maryam\"\n",
    "Name"
   ]
  },
  {
   "cell_type": "code",
   "execution_count": 13,
   "id": "db88f6b6",
   "metadata": {},
   "outputs": [
    {
     "name": "stdout",
     "output_type": "stream",
     "text": [
      "TWO\n"
     ]
    }
   ],
   "source": [
    "numbers = [1,2,3,4,5]\n",
    "for num in numbers:\n",
    "    if num == 2:\n",
    "        print (\"TWO\")"
   ]
  }
 ],
 "metadata": {
  "kernelspec": {
   "display_name": "base",
   "language": "python",
   "name": "python3"
  },
  "language_info": {
   "codemirror_mode": {
    "name": "ipython",
    "version": 3
   },
   "file_extension": ".py",
   "mimetype": "text/x-python",
   "name": "python",
   "nbconvert_exporter": "python",
   "pygments_lexer": "ipython3",
   "version": "3.12.7"
  }
 },
 "nbformat": 4,
 "nbformat_minor": 5
}
